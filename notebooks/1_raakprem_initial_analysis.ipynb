{
 "cells": [
  {
   "cell_type": "code",
   "execution_count": 1,
   "metadata": {},
   "outputs": [
    {
     "name": "stdout",
     "output_type": "stream",
     "text": [
      "/Users/raakeshpremkumar/Desktop/kaggle/predict_sales/notebooks\n",
      ".gitkeep                          1_raakprem_initial_analysis.ipynb\n",
      "\u001b[34m.ipynb_checkpoints\u001b[m\u001b[m\n",
      ".DS_Store             \u001b[31mitems.csv\u001b[m\u001b[m             \u001b[31mshops.csv\u001b[m\u001b[m\n",
      ".gitkeep              \u001b[31msales_train.csv\u001b[m\u001b[m       \u001b[31mtest.csv\u001b[m\u001b[m\n",
      "\u001b[31mitem_categories.csv\u001b[m\u001b[m   \u001b[31msample_submission.csv\u001b[m\u001b[m\n"
     ]
    }
   ],
   "source": [
    "!pwd\n",
    "!ls\n",
    "!ls ../data/raw"
   ]
  },
  {
   "cell_type": "code",
   "execution_count": 2,
   "metadata": {
    "collapsed": true
   },
   "outputs": [],
   "source": [
    "#warnings settings\n",
    "import warnings\n",
    "warnings.filterwarnings(\"ignore\")\n",
    "\n",
    "import numpy as np #linear algebra\n",
    "import pandas as pd #data processing, perform I/O, manipulations etc.\n",
    "\n",
    "import datetime"
   ]
  },
  {
   "cell_type": "code",
   "execution_count": 7,
   "metadata": {
    "collapsed": true
   },
   "outputs": [],
   "source": [
    "#constants\n",
    "raw_input_path = \"../data/raw/\""
   ]
  },
  {
   "cell_type": "code",
   "execution_count": 4,
   "metadata": {},
   "outputs": [
    {
     "name": "stdout",
     "output_type": "stream",
     "text": [
      "<class 'pandas.core.frame.DataFrame'>\n",
      "RangeIndex: 2935849 entries, 0 to 2935848\n",
      "Data columns (total 6 columns):\n",
      "date              datetime64[ns]\n",
      "date_block_num    int64\n",
      "shop_id           int64\n",
      "item_id           int64\n",
      "item_price        float64\n",
      "item_cnt_day      float64\n",
      "dtypes: datetime64[ns](1), float64(2), int64(3)\n",
      "memory usage: 134.4 MB\n",
      "None\n"
     ]
    }
   ],
   "source": [
    "sales = pd.read_csv(raw_input_path + \"sales_train.csv\")\n",
    "\n",
    "#standardize the datetime object\n",
    "sales.date = sales.date.apply(lambda x: datetime.datetime.strptime(x, \"%d.%m.%Y\"))\n",
    "\n",
    "print(sales.info())\n",
    "\n",
    "items = pd.read_csv(raw_input_path + \"items.csv\")\n",
    "shops = pd.read_csv(raw_input_path + \"shops.csv\")\n",
    "test = pd.read_csv(raw_input_path + \"test.csv\")\n",
    "sample_submission = pd.read_csv(raw_input_path + \"sample_submission.csv\")\n",
    "item_categories = pd.read_csv(raw_input_path + \"item_categories.csv\")"
   ]
  },
  {
   "cell_type": "code",
   "execution_count": 5,
   "metadata": {},
   "outputs": [],
   "source": [
    "\"\"\"\n",
    "groupby the columns - {date_block_num, item_price, item_cnt_day}\n",
    "and agg by the date, item_price and item_cnt_day\n",
    "\"\"\"\n",
    "monthly_sales = sales.groupby([\"date_block_num\", \"shop_id\", \"item_id\"])[\"date\", \"item_price\", \"item_cnt_day\"].agg({\"date\":[\"min\",\"max\"], \"item_price\":\"mean\", \"item_cnt_day\":\"sum\"})"
   ]
  },
  {
   "cell_type": "code",
   "execution_count": 8,
   "metadata": {},
   "outputs": [
    {
     "name": "stdout",
     "output_type": "stream",
     "text": [
      "                               item_price       date            item_cnt_day\n",
      "                                     mean        min        max          sum\n",
      "date_block_num shop_id item_id                                              \n",
      "0              0       32           221.0 2013-01-03 2013-01-31          6.0\n",
      "                       33           347.0 2013-01-03 2013-01-28          3.0\n",
      "                       35           247.0 2013-01-31 2013-01-31          1.0\n",
      "                       43           221.0 2013-01-31 2013-01-31          1.0\n",
      "                       51           128.5 2013-01-13 2013-01-31          2.0\n",
      "                       61           195.0 2013-01-10 2013-01-10          1.0\n",
      "                       75            76.0 2013-01-17 2013-01-17          1.0\n",
      "                       88            76.0 2013-01-16 2013-01-16          1.0\n",
      "                       95           193.0 2013-01-06 2013-01-06          1.0\n",
      "                       96            70.0 2013-01-10 2013-01-10          1.0\n",
      "                       98           268.0 2013-01-04 2013-01-31         25.0\n",
      "                       111           89.0 2013-01-17 2013-01-17          1.0\n",
      "                       149           99.0 2013-01-11 2013-01-28          3.0\n",
      "                       151           75.0 2013-01-16 2013-01-16          1.0\n",
      "                       153          258.0 2013-01-09 2013-01-09          1.0\n",
      "                       198          112.0 2013-01-10 2013-01-10          1.0\n",
      "                       210          118.0 2013-01-05 2013-01-25          2.0\n",
      "                       282          109.0 2013-01-04 2013-01-04          1.0\n",
      "                       306           59.0 2013-01-22 2013-01-22          1.0\n",
      "                       351           89.0 2013-01-21 2013-01-21          1.0\n",
      "                       421          162.0 2013-01-07 2013-01-07          1.0\n",
      "                       438          162.0 2013-01-31 2013-01-31          1.0\n",
      "                       482         1360.0 2013-01-09 2013-01-14          2.0\n",
      "                       484          124.0 2013-01-09 2013-01-30          4.0\n",
      "                       491          361.0 2013-01-27 2013-01-27          1.0\n",
      "                       498          124.0 2013-01-19 2013-01-19          1.0\n",
      "                       556           90.0 2013-01-15 2013-01-25          9.0\n",
      "                       642           90.0 2013-01-06 2013-01-20          6.0\n",
      "                       651           90.0 2013-01-09 2013-01-25          7.0\n",
      "                       657           90.0 2013-01-03 2013-01-18          2.0\n"
     ]
    }
   ],
   "source": [
    "print(monthly_sales.head(30))"
   ]
  },
  {
   "cell_type": "code",
   "execution_count": null,
   "metadata": {
    "collapsed": true
   },
   "outputs": [],
   "source": []
  }
 ],
 "metadata": {
  "kernelspec": {
   "display_name": "Python 3",
   "language": "python",
   "name": "python3"
  },
  "language_info": {
   "codemirror_mode": {
    "name": "ipython",
    "version": 3
   },
   "file_extension": ".py",
   "mimetype": "text/x-python",
   "name": "python",
   "nbconvert_exporter": "python",
   "pygments_lexer": "ipython3",
   "version": "3.4.5"
  }
 },
 "nbformat": 4,
 "nbformat_minor": 2
}
